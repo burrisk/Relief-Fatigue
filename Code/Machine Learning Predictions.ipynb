{
 "cells": [
  {
   "cell_type": "code",
   "execution_count": 1,
   "metadata": {
    "collapsed": false
   },
   "outputs": [
    {
     "name": "stdout",
     "output_type": "stream",
     "text": [
      "time: 480 ms\n"
     ]
    }
   ],
   "source": [
    "import pandas as pd\n",
    "import numpy as np\n",
    "import math\n",
    "import matplotlib.pyplot as plt\n",
    "from sklearn.cross_validation import KFold\n",
    "from sklearn.ensemble import RandomForestClassifier\n",
    "from sklearn.ensemble import GradientBoostingClassifier\n",
    "from sklearn.metrics import cohen_kappa_score\n",
    "from scipy.special import expit\n",
    "from scipy.special import logit\n",
    "from sklearn.cross_validation import train_test_split\n",
    "%matplotlib inline"
   ]
  },
  {
   "cell_type": "code",
   "execution_count": 41,
   "metadata": {
    "collapsed": false
   },
   "outputs": [
    {
     "name": "stdout",
     "output_type": "stream",
     "text": [
      "time: 1.6 ms\n"
     ]
    }
   ],
   "source": [
    "#Turn off SettingWithCopyWarning()\n",
    "pd.options.mode.chained_assignment = None"
   ]
  },
  {
   "cell_type": "code",
   "execution_count": 2,
   "metadata": {
    "collapsed": false
   },
   "outputs": [
    {
     "name": "stdout",
     "output_type": "stream",
     "text": [
      "/Users/Jake/Documents/Relief-Fatigue/Code\n",
      "time: 122 ms\n"
     ]
    }
   ],
   "source": [
    "!pwd"
   ]
  },
  {
   "cell_type": "code",
   "execution_count": 2,
   "metadata": {
    "collapsed": false
   },
   "outputs": [
    {
     "name": "stdout",
     "output_type": "stream",
     "text": [
      "time: 5.64 s\n"
     ]
    }
   ],
   "source": [
    "df = pd.read_csv('../Data/pitch_swing.csv', index_col=0)\n",
    "inds = np.random.choice(df.shape[0], df.shape[0], replace=False)\n",
    "df = df.iloc[inds].copy()"
   ]
  },
  {
   "cell_type": "code",
   "execution_count": 3,
   "metadata": {
    "collapsed": false
   },
   "outputs": [
    {
     "data": {
      "text/plain": [
       "['FF', 'SL', 'SI', 'FC', 'CH', 'FT', 'CU', 'FS']"
      ]
     },
     "execution_count": 3,
     "metadata": {},
     "output_type": "execute_result"
    },
    {
     "name": "stdout",
     "output_type": "stream",
     "text": [
      "time: 32.9 ms\n"
     ]
    }
   ],
   "source": [
    "list(df.pitch_type.unique())"
   ]
  },
  {
   "cell_type": "code",
   "execution_count": 360,
   "metadata": {
    "collapsed": false
   },
   "outputs": [
    {
     "data": {
      "text/plain": [
       "Index(['gameday_link', 'batter', 'pitcher', 'num', 'event', 'inning_side',\n",
       "       'inning', 'batter_name', 'pitcher_name', 'date', 'o', 'des', 'type',\n",
       "       'x', 'y', 'start_speed', 'end_speed', 'sz_top', 'sz_bot', 'pfx_x',\n",
       "       'pfx_z', 'px', 'pz', 'x0', 'y0', 'z0', 'vx0', 'vy0', 'vz0', 'ax', 'ay',\n",
       "       'az', 'break_y', 'break_angle', 'break_length', 'pitch_type',\n",
       "       'spin_dir', 'spin_rate', 'count', 'zone', 'sv_id', 'reg_season',\n",
       "       'post_season', 'year', 'b', 's', 'avg_fast_speed.x', 'swinging',\n",
       "       'whiff', 'avg_fast_speed.y', 'in_zone'],\n",
       "      dtype='object')"
      ]
     },
     "execution_count": 360,
     "metadata": {},
     "output_type": "execute_result"
    },
    {
     "name": "stdout",
     "output_type": "stream",
     "text": [
      "time: 5.75 ms\n"
     ]
    }
   ],
   "source": [
    "df.columns"
   ]
  },
  {
   "cell_type": "markdown",
   "metadata": {},
   "source": [
    "# Get best leaf for each pitch_type"
   ]
  },
  {
   "cell_type": "markdown",
   "metadata": {},
   "source": [
    "**Also return table of results**"
   ]
  },
  {
   "cell_type": "code",
   "execution_count": 49,
   "metadata": {
    "collapsed": false
   },
   "outputs": [
    {
     "name": "stdout",
     "output_type": "stream",
     "text": [
      "time: 74.5 ms\n"
     ]
    }
   ],
   "source": [
    "#k-fold cross validation\n",
    "def get_best_leaf(df,pitch_list,leaf_list,covariates,folds = 10):\n",
    "\n",
    "    fits={}\n",
    "    imps = {}\n",
    "\n",
    "    for pitch in pitch_list:\n",
    "        df_p = df[df.pitch_type==pitch]\n",
    "        fits[pitch] ={}\n",
    "        Y = df_p.whiff\n",
    "        X = df_p[covariates]\n",
    "        avg_scores = []; avg_kappas = [];\n",
    "        for leaf in leaf_list:\n",
    "            scores = []; kappas = []; \n",
    "            clf = RandomForestClassifier(min_samples_leaf=leaf)\n",
    "\n",
    "            for train, test in KFold(Y.shape[0], n_folds=folds):\n",
    "                #Fit model\n",
    "                clf.fit(X.iloc[train], Y.iloc[train])\n",
    "\n",
    "                #Judge the model\n",
    "                scores.append(clf.score(X.iloc[test], Y.iloc[test]))\n",
    "                preds = clf.predict(X.iloc[test])\n",
    "                kappas.append(cohen_kappa_score(preds, Y.iloc[test]))\n",
    "\n",
    "            #print('\\nNumber of Leaves: {}'.format(leaf))\n",
    "            #print('Avg Score: {0:.3f}'.format(np.mean(scores)))\n",
    "            #print('Sd Score: {0:.2f}'.format(np.std(scores)))\n",
    "            #print('Avg Kappa: {0:.3f}'.format(np.mean(kappas)))\n",
    "            avg_scores.append(round(np.mean(scores),3))\n",
    "            avg_kappas.append(round(np.mean(kappas),3))\n",
    "\n",
    "        best_k = np.argmax(avg_kappas)\n",
    "        best_s = np.argmax(avg_scores)\n",
    "        print('\\nPitch Type: {}'.format(pitch))\n",
    "        print(\"Percent Whiffs: \", round(1-Y.mean(),3))\n",
    "        print('Leaves/Score/Kappa for best:')\n",
    "        print('Score: ',leaf_list[best_s],\"/\",avg_scores[best_s],\"/\",avg_kappas[best_s])\n",
    "        print('Kappa: ',leaf_list[best_k],\"/\",avg_scores[best_k],\"/\",avg_kappas[best_k])\n",
    "\n",
    "        fits[pitch]['perc_whiff'] = round(1-Y.mean(),3)\n",
    "        fits[pitch]['score'] = avg_scores[best_s]\n",
    "        fits[pitch]['num_pitches'] = int(len(Y))\n",
    "        fits[pitch]['leaf'] = int(leaf_list[best_s])\n",
    "        fits[pitch]['kappa'] = avg_kappas[best_s]\n",
    "\n",
    "    return(fits)\n",
    "\n"
   ]
  },
  {
   "cell_type": "code",
   "execution_count": 50,
   "metadata": {
    "collapsed": false
   },
   "outputs": [
    {
     "name": "stdout",
     "output_type": "stream",
     "text": [
      "\n",
      "Pitch Type: FT\n",
      "Percent Whiffs:  0.799\n",
      "Leaves/Score/Kappa for best:\n",
      "Score:  25 / 0.802 / 0.05\n",
      "Kappa:  25 / 0.802 / 0.05\n",
      "\n",
      "Pitch Type: CH\n",
      "Percent Whiffs:  0.536\n",
      "Leaves/Score/Kappa for best:\n",
      "Score:  50 / 0.631 / 0.25\n",
      "Kappa:  50 / 0.631 / 0.25\n",
      "\n",
      "Pitch Type: SL\n",
      "Percent Whiffs:  0.545\n",
      "Leaves/Score/Kappa for best:\n",
      "Score:  25 / 0.683 / 0.351\n",
      "Kappa:  25 / 0.683 / 0.351\n",
      "\n",
      "Pitch Type: FF\n",
      "Percent Whiffs:  0.759\n",
      "Leaves/Score/Kappa for best:\n",
      "Score:  25 / 0.76 / 0.056\n",
      "Kappa:  25 / 0.76 / 0.056\n",
      "\n",
      "Pitch Type: FC\n",
      "Percent Whiffs:  0.695\n",
      "Leaves/Score/Kappa for best:\n",
      "Score:  25 / 0.715 / 0.142\n",
      "Kappa:  25 / 0.715 / 0.142\n",
      "\n",
      "Pitch Type: SI\n",
      "Percent Whiffs:  0.798\n",
      "Leaves/Score/Kappa for best:\n",
      "Score:  25 / 0.802 / 0.058\n",
      "Kappa:  25 / 0.802 / 0.058\n",
      "\n",
      "Pitch Type: FS\n",
      "Percent Whiffs:  0.553\n",
      "Leaves/Score/Kappa for best:\n",
      "Score:  25 / 0.664 / 0.31\n",
      "Kappa:  25 / 0.664 / 0.31\n",
      "\n",
      "Pitch Type: CU\n",
      "Percent Whiffs:  0.533\n",
      "Leaves/Score/Kappa for best:\n",
      "Score:  25 / 0.707 / 0.407\n",
      "Kappa:  25 / 0.707 / 0.407\n",
      "time: 8min 57s\n"
     ]
    }
   ],
   "source": [
    "leafs = [25,50,100,200,500];\n",
    "pitch_types = list(df.pitch_type.unique())\n",
    "covars = ['start_speed','end_speed','pfx_x','pfx_z','vx0','vy0','vz0','ax','ay','az','break_y',\n",
    "         'break_angle','spin_dir','spin_rate']\n",
    "best = get_best_leaf(df,pitch_types,leafs,covars)"
   ]
  },
  {
   "cell_type": "markdown",
   "metadata": {},
   "source": [
    "# Get Predicted Means Table"
   ]
  },
  {
   "cell_type": "code",
   "execution_count": null,
   "metadata": {
    "collapsed": true
   },
   "outputs": [],
   "source": [
    "def get_pred_means_table(df,covariates,leaf, subset = None):\n",
    "    df_p_train, df_p_test = train_test_split(df, test_size=0.5, random_state=42)\n",
    "\n",
    "    #Test and train X datasets\n",
    "    Y_train = df_p_train.whiff\n",
    "    Y_test = df_p_test.whiff\n",
    "    X_train = df_p_train[covariates]\n",
    "\n",
    "    X_test = df_p_test[covariates]\n",
    "\n",
    "\n",
    "    X_train = pd.concat([pd.get_dummies(X_train[col]).ix[:, :-1] \n",
    "                   if X_train[col].dtype == object or hasattr(X_train[col], 'cat')\n",
    "                   else X_train[col]\n",
    "                   for col in X_train.columns], axis=1)\n",
    "\n",
    "    X_test = pd.concat([pd.get_dummies(X_test[col]).ix[:, :-1] \n",
    "                   if X_test[col].dtype == object or hasattr(X_test[col], 'cat')\n",
    "                   else X_test[col]\n",
    "                   for col in X_test.columns], axis=1)\n",
    "\n",
    "    #Fit the Random Forest with the best leaf\n",
    "    clf = RandomForestClassifier(min_samples_leaf=leaf)\n",
    "    clf.fit(X_train,Y_train)\n",
    "\n",
    "    print(1-Y_test.mean())\n",
    "    print(clf.score(X_test,Y_test))\n",
    "    #Predict probabilities\n",
    "    pred_probs = clf.predict_proba(X_test)[:,1] #predicted probability of strike\n",
    "\n",
    "    #Take the logit\n",
    "    pred_stuff = logit(pred_probs)\n",
    "\n",
    "    pred_mat = df_p_test[[\"pitcher_name\"]].copy()\n",
    "    pred_mat['pred_stuff'] = pred_stuff\n",
    "    \n",
    "    #Get rid of people with predicted probability 0\n",
    "    pred_mat['pred_stuff'] = pred_mat['pred_stuff'][pred_mat['pred_stuff']>-math.inf]\n",
    "    \n",
    "    #mean/sd for standardization\n",
    "    overall_mean = pred_mat.pred_stuff.mean()\n",
    "    overall_sd = pred_mat.pred_stuff.std()\n",
    "    \n",
    "    #Standardize\n",
    "    pred_mat['pred_z'] = (pred_mat['pred_stuff'] - overall_mean)/overall_sd\n",
    "    \n",
    "    #group by pitcher name\n",
    "    #average the stuff\n",
    "    group_pred = pred_mat.groupby('pitcher_name')\n",
    "\n",
    "    mapped_funs = {'pred_z': {'count','mean'}}\n",
    "    pred_means = group_pred.agg(mapped_funs)\n",
    "\n",
    "    #Only show me players with more than 100 of that pitch\n",
    "    if(subset is not None):\n",
    "        pred_means = pred_means[pred_means[('pred_z','count')]>subset]\n",
    "    \n",
    "    pred_means = pred_means.sort_values(('pred_z','mean'),ascending = False)\n",
    "\n",
    "    return(pred_means)"
   ]
  },
  {
   "cell_type": "markdown",
   "metadata": {},
   "source": [
    "# Train Model based on best leaf, attach to other dset"
   ]
  },
  {
   "cell_type": "markdown",
   "metadata": {},
   "source": [
    "** Need to train model on 2012/2016 swings, but attach to 2013-2015 all pitches**"
   ]
  },
  {
   "cell_type": "code",
   "execution_count": 68,
   "metadata": {
    "collapsed": false
   },
   "outputs": [
    {
     "name": "stdout",
     "output_type": "stream",
     "text": [
      "time: 141 ms\n"
     ]
    }
   ],
   "source": [
    "def add_stuff(train_dset, pred_dset, best_fits, covariates):\n",
    "    \n",
    "    #Train all the pitches, save the clfs\n",
    "    all_pitches = train_dset.pitch_type.unique()\n",
    "    if(len(all_pitches)!=len(best_fits)):\n",
    "        print('Error: Num pitch types in fits dictionary not same as num pitch types in dset')\n",
    "        return\n",
    "    \n",
    "    clf_dict = {}\n",
    "    for i in range(len(all_pitches)):\n",
    "        pitch = all_pitches[i]\n",
    "        \n",
    "        if(pitch not in best_fits.keys()):\n",
    "            print(pitch+' not in fits dictionary')\n",
    "            return\n",
    "        \n",
    "        train_df = train_dset[train_dset.pitch_type==pitch]\n",
    "        X_train = train_df[covariates]\n",
    "\n",
    "        X_train = pd.concat([pd.get_dummies(X_train[col]).ix[:, :-1] \n",
    "                       if X_train[col].dtype == object or hasattr(X_train[col], 'cat')\n",
    "                       else X_train[col]\n",
    "                       for col in X_train.columns], axis=1)\n",
    "        \n",
    "        Y_train = train_df.whiff\n",
    "        \n",
    "        leaf = best_fits[pitch]['leaf']\n",
    "        clf =  RandomForestClassifier(min_samples_leaf=leaf)\n",
    "        clf.fit(X_train,Y_train)\n",
    "        \n",
    "        ##Now, predict on new data\n",
    "        pred_df = pred_dset[pred_dset.pitch_type==pitch].copy()\n",
    "        \n",
    "        X_pred = pred_df[covariates]\n",
    "        X_pred = pd.concat([pd.get_dummies(X_pred[col]).ix[:, :-1] \n",
    "                       if X_pred[col].dtype == object or hasattr(X_pred[col], 'cat')\n",
    "                       else X_pred[col]\n",
    "                       for col in X_pred.columns], axis=1)\n",
    "        \n",
    "        #Predict probabilities\n",
    "        pred_probs = clf.predict_proba(X_pred)[:,1] #predicted probability of strike\n",
    "\n",
    "        #Take the logit\n",
    "        pred_stuff = logit(pred_probs)\n",
    "        \n",
    "        overall_mean = pred_stuff.mean()\n",
    "        overall_sd = pred_stuff.std()\n",
    "        \n",
    "        pred_z = (pred_stuff - overall_mean)/overall_sd\n",
    "        \n",
    "        pred_df['z_stuff'] = pred_z\n",
    "        \n",
    "        if(i==0):\n",
    "            out_mat = pred_df.copy()\n",
    "        else:\n",
    "            out_mat = out_mat.append(pred_df)\n",
    "        \n",
    "    \n",
    "    if(out_mat.shape[0]!= pred_dset.shape[0]):\n",
    "        print(\"You got more than zero problems big fella\")\n",
    "        \n",
    "    return(out_mat)\n",
    "\n",
    "    "
   ]
  },
  {
   "cell_type": "code",
   "execution_count": 52,
   "metadata": {
    "collapsed": false
   },
   "outputs": [
    {
     "name": "stdout",
     "output_type": "stream",
     "text": [
      "time: 288 ms\n"
     ]
    }
   ],
   "source": [
    "final_train = df[(df.year==2026) | (df.year==2012)]\n",
    "final_pred = df[(df.year>=2013)&(df.year<=2015)]"
   ]
  },
  {
   "cell_type": "code",
   "execution_count": 69,
   "metadata": {
    "collapsed": false
   },
   "outputs": [
    {
     "name": "stdout",
     "output_type": "stream",
     "text": [
      "time: 5.44 s\n"
     ]
    }
   ],
   "source": [
    "jags_dset = add_stuff(final_train, final_pred,best,covars,)"
   ]
  },
  {
   "cell_type": "code",
   "execution_count": 72,
   "metadata": {
    "collapsed": false
   },
   "outputs": [
    {
     "data": {
      "text/html": [
       "<div>\n",
       "<table border=\"1\" class=\"dataframe\">\n",
       "  <thead>\n",
       "    <tr>\n",
       "      <th></th>\n",
       "      <th colspan=\"2\" halign=\"left\">z_stuff</th>\n",
       "    </tr>\n",
       "    <tr>\n",
       "      <th></th>\n",
       "      <th>mean</th>\n",
       "      <th>count</th>\n",
       "    </tr>\n",
       "    <tr>\n",
       "      <th>pitcher_name</th>\n",
       "      <th></th>\n",
       "      <th></th>\n",
       "    </tr>\n",
       "  </thead>\n",
       "  <tbody>\n",
       "    <tr>\n",
       "      <th>Zachary Britton</th>\n",
       "      <td>1.442092</td>\n",
       "      <td>646</td>\n",
       "    </tr>\n",
       "    <tr>\n",
       "      <th>Aroldis Chapman</th>\n",
       "      <td>1.102518</td>\n",
       "      <td>1267</td>\n",
       "    </tr>\n",
       "    <tr>\n",
       "      <th>Jacob McGee</th>\n",
       "      <td>1.015731</td>\n",
       "      <td>1166</td>\n",
       "    </tr>\n",
       "    <tr>\n",
       "      <th>Scott Rice</th>\n",
       "      <td>0.929227</td>\n",
       "      <td>315</td>\n",
       "    </tr>\n",
       "    <tr>\n",
       "      <th>Blake Treinen</th>\n",
       "      <td>0.920125</td>\n",
       "      <td>318</td>\n",
       "    </tr>\n",
       "    <tr>\n",
       "      <th>Brayan Villarreal</th>\n",
       "      <td>0.847694</td>\n",
       "      <td>37</td>\n",
       "    </tr>\n",
       "    <tr>\n",
       "      <th>Craig Kimbrel</th>\n",
       "      <td>0.831652</td>\n",
       "      <td>1198</td>\n",
       "    </tr>\n",
       "    <tr>\n",
       "      <th>Enny Romero</th>\n",
       "      <td>0.829765</td>\n",
       "      <td>190</td>\n",
       "    </tr>\n",
       "    <tr>\n",
       "      <th>Jose Dominguez</th>\n",
       "      <td>0.735225</td>\n",
       "      <td>35</td>\n",
       "    </tr>\n",
       "    <tr>\n",
       "      <th>Carter Capps</th>\n",
       "      <td>0.726589</td>\n",
       "      <td>650</td>\n",
       "    </tr>\n",
       "    <tr>\n",
       "      <th>Jeff Beliveau</th>\n",
       "      <td>0.726322</td>\n",
       "      <td>61</td>\n",
       "    </tr>\n",
       "    <tr>\n",
       "      <th>Ben Rowen</th>\n",
       "      <td>0.713083</td>\n",
       "      <td>32</td>\n",
       "    </tr>\n",
       "    <tr>\n",
       "      <th>Rhiner Cruz</th>\n",
       "      <td>0.709072</td>\n",
       "      <td>82</td>\n",
       "    </tr>\n",
       "    <tr>\n",
       "      <th>Trevor Gott</th>\n",
       "      <td>0.702214</td>\n",
       "      <td>182</td>\n",
       "    </tr>\n",
       "    <tr>\n",
       "      <th>Kyuji Fujikawa</th>\n",
       "      <td>0.665292</td>\n",
       "      <td>93</td>\n",
       "    </tr>\n",
       "    <tr>\n",
       "      <th>Brian Ellington</th>\n",
       "      <td>0.641354</td>\n",
       "      <td>141</td>\n",
       "    </tr>\n",
       "    <tr>\n",
       "      <th>Michael Kohn</th>\n",
       "      <td>0.637815</td>\n",
       "      <td>442</td>\n",
       "    </tr>\n",
       "    <tr>\n",
       "      <th>Darin Downs</th>\n",
       "      <td>0.629135</td>\n",
       "      <td>323</td>\n",
       "    </tr>\n",
       "    <tr>\n",
       "      <th>Jeurys Familia</th>\n",
       "      <td>0.628811</td>\n",
       "      <td>869</td>\n",
       "    </tr>\n",
       "    <tr>\n",
       "      <th>Kyle Crockett</th>\n",
       "      <td>0.626520</td>\n",
       "      <td>220</td>\n",
       "    </tr>\n",
       "    <tr>\n",
       "      <th>Ernesto Frieri</th>\n",
       "      <td>0.590023</td>\n",
       "      <td>944</td>\n",
       "    </tr>\n",
       "    <tr>\n",
       "      <th>Heath Hembree</th>\n",
       "      <td>0.581815</td>\n",
       "      <td>145</td>\n",
       "    </tr>\n",
       "    <tr>\n",
       "      <th>Jose Ramirez</th>\n",
       "      <td>0.574212</td>\n",
       "      <td>100</td>\n",
       "    </tr>\n",
       "    <tr>\n",
       "      <th>Andrew Bailey</th>\n",
       "      <td>0.547582</td>\n",
       "      <td>173</td>\n",
       "    </tr>\n",
       "    <tr>\n",
       "      <th>Austin Adams</th>\n",
       "      <td>0.545419</td>\n",
       "      <td>144</td>\n",
       "    </tr>\n",
       "    <tr>\n",
       "      <th>Cameron Bedrosian</th>\n",
       "      <td>0.534837</td>\n",
       "      <td>283</td>\n",
       "    </tr>\n",
       "    <tr>\n",
       "      <th>B.J. Rosenberg</th>\n",
       "      <td>0.512843</td>\n",
       "      <td>49</td>\n",
       "    </tr>\n",
       "    <tr>\n",
       "      <th>Gus Schlosser</th>\n",
       "      <td>0.499536</td>\n",
       "      <td>74</td>\n",
       "    </tr>\n",
       "    <tr>\n",
       "      <th>Michael Foltynewicz</th>\n",
       "      <td>0.490488</td>\n",
       "      <td>44</td>\n",
       "    </tr>\n",
       "    <tr>\n",
       "      <th>Joshua Fields</th>\n",
       "      <td>0.478141</td>\n",
       "      <td>918</td>\n",
       "    </tr>\n",
       "    <tr>\n",
       "      <th>...</th>\n",
       "      <td>...</td>\n",
       "      <td>...</td>\n",
       "    </tr>\n",
       "    <tr>\n",
       "      <th>Pat Neshek</th>\n",
       "      <td>-0.495140</td>\n",
       "      <td>943</td>\n",
       "    </tr>\n",
       "    <tr>\n",
       "      <th>Donn Roach</th>\n",
       "      <td>-0.505128</td>\n",
       "      <td>115</td>\n",
       "    </tr>\n",
       "    <tr>\n",
       "      <th>Eric Surkamp</th>\n",
       "      <td>-0.509439</td>\n",
       "      <td>35</td>\n",
       "    </tr>\n",
       "    <tr>\n",
       "      <th>Brandon Lyon</th>\n",
       "      <td>-0.510155</td>\n",
       "      <td>125</td>\n",
       "    </tr>\n",
       "    <tr>\n",
       "      <th>Zeke Spruill</th>\n",
       "      <td>-0.511600</td>\n",
       "      <td>46</td>\n",
       "    </tr>\n",
       "    <tr>\n",
       "      <th>Jose Valverde</th>\n",
       "      <td>-0.515800</td>\n",
       "      <td>203</td>\n",
       "    </tr>\n",
       "    <tr>\n",
       "      <th>Tim Stauffer</th>\n",
       "      <td>-0.529176</td>\n",
       "      <td>51</td>\n",
       "    </tr>\n",
       "    <tr>\n",
       "      <th>Edgmer Escalona</th>\n",
       "      <td>-0.543342</td>\n",
       "      <td>291</td>\n",
       "    </tr>\n",
       "    <tr>\n",
       "      <th>Paul Clemens</th>\n",
       "      <td>-0.546011</td>\n",
       "      <td>82</td>\n",
       "    </tr>\n",
       "    <tr>\n",
       "      <th>Derek Lowe</th>\n",
       "      <td>-0.562304</td>\n",
       "      <td>48</td>\n",
       "    </tr>\n",
       "    <tr>\n",
       "      <th>Eury De La Rosa</th>\n",
       "      <td>-0.563159</td>\n",
       "      <td>117</td>\n",
       "    </tr>\n",
       "    <tr>\n",
       "      <th>Shawn Camp</th>\n",
       "      <td>-0.566803</td>\n",
       "      <td>117</td>\n",
       "    </tr>\n",
       "    <tr>\n",
       "      <th>Jean Machi</th>\n",
       "      <td>-0.570259</td>\n",
       "      <td>750</td>\n",
       "    </tr>\n",
       "    <tr>\n",
       "      <th>Michael Tonkin</th>\n",
       "      <td>-0.598006</td>\n",
       "      <td>214</td>\n",
       "    </tr>\n",
       "    <tr>\n",
       "      <th>Sugar Ray Marimon</th>\n",
       "      <td>-0.600120</td>\n",
       "      <td>83</td>\n",
       "    </tr>\n",
       "    <tr>\n",
       "      <th>Miguel Socolovich</th>\n",
       "      <td>-0.607890</td>\n",
       "      <td>161</td>\n",
       "    </tr>\n",
       "    <tr>\n",
       "      <th>Sam LeCure</th>\n",
       "      <td>-0.612811</td>\n",
       "      <td>537</td>\n",
       "    </tr>\n",
       "    <tr>\n",
       "      <th>Adam Achter</th>\n",
       "      <td>-0.618581</td>\n",
       "      <td>39</td>\n",
       "    </tr>\n",
       "    <tr>\n",
       "      <th>Joe Savery</th>\n",
       "      <td>-0.619563</td>\n",
       "      <td>69</td>\n",
       "    </tr>\n",
       "    <tr>\n",
       "      <th>Daniel Otero</th>\n",
       "      <td>-0.652545</td>\n",
       "      <td>764</td>\n",
       "    </tr>\n",
       "    <tr>\n",
       "      <th>Wei-Chung Wang</th>\n",
       "      <td>-0.663432</td>\n",
       "      <td>85</td>\n",
       "    </tr>\n",
       "    <tr>\n",
       "      <th>Drew VerHagen</th>\n",
       "      <td>-0.692595</td>\n",
       "      <td>73</td>\n",
       "    </tr>\n",
       "    <tr>\n",
       "      <th>Mike Adams</th>\n",
       "      <td>-0.694611</td>\n",
       "      <td>74</td>\n",
       "    </tr>\n",
       "    <tr>\n",
       "      <th>Thad Weber</th>\n",
       "      <td>-0.696752</td>\n",
       "      <td>58</td>\n",
       "    </tr>\n",
       "    <tr>\n",
       "      <th>Burke Badenhop</th>\n",
       "      <td>-0.705492</td>\n",
       "      <td>771</td>\n",
       "    </tr>\n",
       "    <tr>\n",
       "      <th>LaTroy Hawkins</th>\n",
       "      <td>-0.726014</td>\n",
       "      <td>783</td>\n",
       "    </tr>\n",
       "    <tr>\n",
       "      <th>Kenneth Roberts</th>\n",
       "      <td>-0.736238</td>\n",
       "      <td>42</td>\n",
       "    </tr>\n",
       "    <tr>\n",
       "      <th>Collin Balester</th>\n",
       "      <td>-0.789233</td>\n",
       "      <td>55</td>\n",
       "    </tr>\n",
       "    <tr>\n",
       "      <th>Blake Parker</th>\n",
       "      <td>-0.833456</td>\n",
       "      <td>368</td>\n",
       "    </tr>\n",
       "    <tr>\n",
       "      <th>Kevin Gregg</th>\n",
       "      <td>-0.896854</td>\n",
       "      <td>354</td>\n",
       "    </tr>\n",
       "  </tbody>\n",
       "</table>\n",
       "<p>475 rows × 2 columns</p>\n",
       "</div>"
      ],
      "text/plain": [
       "                      z_stuff      \n",
       "                         mean count\n",
       "pitcher_name                       \n",
       "Zachary Britton      1.442092   646\n",
       "Aroldis Chapman      1.102518  1267\n",
       "Jacob McGee          1.015731  1166\n",
       "Scott Rice           0.929227   315\n",
       "Blake Treinen        0.920125   318\n",
       "Brayan Villarreal    0.847694    37\n",
       "Craig Kimbrel        0.831652  1198\n",
       "Enny Romero          0.829765   190\n",
       "Jose Dominguez       0.735225    35\n",
       "Carter Capps         0.726589   650\n",
       "Jeff Beliveau        0.726322    61\n",
       "Ben Rowen            0.713083    32\n",
       "Rhiner Cruz          0.709072    82\n",
       "Trevor Gott          0.702214   182\n",
       "Kyuji Fujikawa       0.665292    93\n",
       "Brian Ellington      0.641354   141\n",
       "Michael Kohn         0.637815   442\n",
       "Darin Downs          0.629135   323\n",
       "Jeurys Familia       0.628811   869\n",
       "Kyle Crockett        0.626520   220\n",
       "Ernesto Frieri       0.590023   944\n",
       "Heath Hembree        0.581815   145\n",
       "Jose Ramirez         0.574212   100\n",
       "Andrew Bailey        0.547582   173\n",
       "Austin Adams         0.545419   144\n",
       "Cameron Bedrosian    0.534837   283\n",
       "B.J. Rosenberg       0.512843    49\n",
       "Gus Schlosser        0.499536    74\n",
       "Michael Foltynewicz  0.490488    44\n",
       "Joshua Fields        0.478141   918\n",
       "...                       ...   ...\n",
       "Pat Neshek          -0.495140   943\n",
       "Donn Roach          -0.505128   115\n",
       "Eric Surkamp        -0.509439    35\n",
       "Brandon Lyon        -0.510155   125\n",
       "Zeke Spruill        -0.511600    46\n",
       "Jose Valverde       -0.515800   203\n",
       "Tim Stauffer        -0.529176    51\n",
       "Edgmer Escalona     -0.543342   291\n",
       "Paul Clemens        -0.546011    82\n",
       "Derek Lowe          -0.562304    48\n",
       "Eury De La Rosa     -0.563159   117\n",
       "Shawn Camp          -0.566803   117\n",
       "Jean Machi          -0.570259   750\n",
       "Michael Tonkin      -0.598006   214\n",
       "Sugar Ray Marimon   -0.600120    83\n",
       "Miguel Socolovich   -0.607890   161\n",
       "Sam LeCure          -0.612811   537\n",
       "Adam Achter         -0.618581    39\n",
       "Joe Savery          -0.619563    69\n",
       "Daniel Otero        -0.652545   764\n",
       "Wei-Chung Wang      -0.663432    85\n",
       "Drew VerHagen       -0.692595    73\n",
       "Mike Adams          -0.694611    74\n",
       "Thad Weber          -0.696752    58\n",
       "Burke Badenhop      -0.705492   771\n",
       "LaTroy Hawkins      -0.726014   783\n",
       "Kenneth Roberts     -0.736238    42\n",
       "Collin Balester     -0.789233    55\n",
       "Blake Parker        -0.833456   368\n",
       "Kevin Gregg         -0.896854   354\n",
       "\n",
       "[475 rows x 2 columns]"
      ]
     },
     "execution_count": 72,
     "metadata": {},
     "output_type": "execute_result"
    },
    {
     "name": "stdout",
     "output_type": "stream",
     "text": [
      "time: 63 ms\n"
     ]
    }
   ],
   "source": [
    "jags_group = jags_dset.groupby('pitcher_name')\n",
    "\n",
    "mapped_funs = {'z_stuff': {'count','mean'}}\n",
    "z_stuff = jags_group.agg(mapped_funs)\n",
    "z_stuff.sort_values(('z_stuff','mean'),ascending=False)"
   ]
  },
  {
   "cell_type": "code",
   "execution_count": 64,
   "metadata": {
    "collapsed": false
   },
   "outputs": [
    {
     "data": {
      "text/plain": [
       "(193706, 51)"
      ]
     },
     "execution_count": 64,
     "metadata": {},
     "output_type": "execute_result"
    },
    {
     "name": "stdout",
     "output_type": "stream",
     "text": [
      "time: 3.18 ms\n"
     ]
    }
   ],
   "source": [
    "final_pred.shape"
   ]
  },
  {
   "cell_type": "markdown",
   "metadata": {},
   "source": [
    "**This is where the money is made**"
   ]
  },
  {
   "cell_type": "code",
   "execution_count": null,
   "metadata": {
    "collapsed": true
   },
   "outputs": [],
   "source": []
  }
 ],
 "metadata": {
  "kernelspec": {
   "display_name": "Python 3",
   "language": "python",
   "name": "python3"
  },
  "language_info": {
   "codemirror_mode": {
    "name": "ipython",
    "version": 3
   },
   "file_extension": ".py",
   "mimetype": "text/x-python",
   "name": "python",
   "nbconvert_exporter": "python",
   "pygments_lexer": "ipython3",
   "version": "3.5.2"
  }
 },
 "nbformat": 4,
 "nbformat_minor": 0
}
