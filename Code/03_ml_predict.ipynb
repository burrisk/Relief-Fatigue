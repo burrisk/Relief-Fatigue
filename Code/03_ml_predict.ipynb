{
 "cells": [
  {
   "cell_type": "code",
   "execution_count": 1,
   "metadata": {
    "collapsed": false
   },
   "outputs": [
    {
     "name": "stdout",
     "output_type": "stream",
     "text": [
      "time: 243 ms\n"
     ]
    }
   ],
   "source": [
    "import pandas as pd\n",
    "import numpy as np\n",
    "import math\n",
    "import matplotlib.pyplot as plt\n",
    "from sklearn.cross_validation import KFold\n",
    "from sklearn.ensemble import RandomForestClassifier\n",
    "from sklearn.ensemble import GradientBoostingClassifier\n",
    "from sklearn.metrics import cohen_kappa_score\n",
    "from scipy.special import expit\n",
    "from scipy.special import logit\n",
    "from sklearn.cross_validation import train_test_split\n",
    "%matplotlib inline"
   ]
  },
  {
   "cell_type": "code",
   "execution_count": 2,
   "metadata": {
    "collapsed": false
   },
   "outputs": [
    {
     "name": "stdout",
     "output_type": "stream",
     "text": [
      "time: 957 µs\n"
     ]
    }
   ],
   "source": [
    "#Turn off SettingWithCopyWarning()\n",
    "pd.options.mode.chained_assignment = None"
   ]
  },
  {
   "cell_type": "code",
   "execution_count": 161,
   "metadata": {
    "collapsed": false
   },
   "outputs": [
    {
     "name": "stdout",
     "output_type": "stream",
     "text": [
      "time: 19.6 s\n"
     ]
    }
   ],
   "source": [
    "df = pd.read_csv('../Data/pitch_swing.csv', index_col=0)\n",
    "inds = np.random.choice(df.shape[0], df.shape[0], replace=False)\n",
    "df = df.iloc[inds].copy()\n",
    "\n",
    "df_all = pd.read_csv('../Data/AllStandardPitches.csv', index_col=0)\n",
    "inds_all = np.random.choice(df_all.shape[0], df_all.shape[0], replace=False)\n",
    "df_all = df_all.iloc[inds_all].copy()"
   ]
  },
  {
   "cell_type": "code",
   "execution_count": 5,
   "metadata": {
    "collapsed": false
   },
   "outputs": [
    {
     "data": {
      "text/plain": [
       "['CU', 'SI', 'SL', 'FF', 'FT', 'CH', 'FC', 'FS']"
      ]
     },
     "execution_count": 5,
     "metadata": {},
     "output_type": "execute_result"
    },
    {
     "name": "stdout",
     "output_type": "stream",
     "text": [
      "time: 22.7 ms\n"
     ]
    }
   ],
   "source": [
    "list(df.pitch_type.unique())"
   ]
  },
  {
   "cell_type": "markdown",
   "metadata": {},
   "source": [
    "# Get best leaf for each pitch_type"
   ]
  },
  {
   "cell_type": "markdown",
   "metadata": {},
   "source": [
    "**Also return table of results**"
   ]
  },
  {
   "cell_type": "code",
   "execution_count": 7,
   "metadata": {
    "collapsed": false
   },
   "outputs": [
    {
     "name": "stdout",
     "output_type": "stream",
     "text": [
      "time: 125 ms\n"
     ]
    }
   ],
   "source": [
    "#k-fold cross validation\n",
    "def get_best_leaf(df,pitch_list,leaf_list,covariates,folds = 10):\n",
    "\n",
    "    fits={}\n",
    "    imps = {}\n",
    "\n",
    "    for pitch in pitch_list:\n",
    "        df_p = df[df.pitch_type==pitch]\n",
    "        fits[pitch] ={}\n",
    "        Y = df_p.whiff\n",
    "        X = df_p[covariates]\n",
    "        \n",
    "        X = pd.concat([pd.get_dummies(X[col]).ix[:, :-1] \n",
    "                       if X[col].dtype == object or hasattr(X[col], 'cat')\n",
    "                       else X[col]\n",
    "                       for col in X.columns], axis=1)\n",
    "        avg_scores = []; avg_kappas = [];\n",
    "        for leaf in leaf_list:\n",
    "            scores = []; kappas = []; \n",
    "            clf = RandomForestClassifier(min_samples_leaf=leaf)\n",
    "\n",
    "            for train, test in KFold(Y.shape[0], n_folds=folds):\n",
    "                #Fit model\n",
    "                clf.fit(X.iloc[train], Y.iloc[train])\n",
    "\n",
    "                #Judge the model\n",
    "                scores.append(clf.score(X.iloc[test], Y.iloc[test]))\n",
    "                preds = clf.predict(X.iloc[test])\n",
    "                kappas.append(cohen_kappa_score(preds, Y.iloc[test]))\n",
    "\n",
    "            #print('\\nNumber of Leaves: {}'.format(leaf))\n",
    "            #print('Avg Score: {0:.3f}'.format(np.mean(scores)))\n",
    "            #print('Sd Score: {0:.2f}'.format(np.std(scores)))\n",
    "            #print('Avg Kappa: {0:.3f}'.format(np.mean(kappas)))\n",
    "            avg_scores.append(round(np.mean(scores),3))\n",
    "            avg_kappas.append(round(np.mean(kappas),3))\n",
    "\n",
    "        best_k = np.argmax(avg_kappas)\n",
    "        best_s = np.argmax(avg_scores)\n",
    "        print('\\nPitch Type: {}'.format(pitch))\n",
    "        print(\"Percent Whiffs: \", round(1-Y.mean(),3))\n",
    "        print('Leaves/Score/Kappa for best:')\n",
    "        print('Score: ',leaf_list[best_s],\"/\",avg_scores[best_s],\"/\",avg_kappas[best_s])\n",
    "        print('Kappa: ',leaf_list[best_k],\"/\",avg_scores[best_k],\"/\",avg_kappas[best_k])\n",
    "\n",
    "        fits[pitch]['perc_whiff'] = round(1-Y.mean(),3)\n",
    "        fits[pitch]['score'] = avg_scores[best_s]\n",
    "        fits[pitch]['num_pitches'] = int(len(Y))\n",
    "        fits[pitch]['leaf'] = int(leaf_list[best_s])\n",
    "        fits[pitch]['kappa'] = avg_kappas[best_s]\n",
    "\n",
    "    return(fits)\n",
    "\n"
   ]
  },
  {
   "cell_type": "code",
   "execution_count": 162,
   "metadata": {
    "collapsed": false
   },
   "outputs": [
    {
     "name": "stdout",
     "output_type": "stream",
     "text": [
      "\n",
      "Pitch Type: SL\n",
      "Percent Whiffs:  0.545\n",
      "Leaves/Score/Kappa for best:\n",
      "Score:  25 / 0.683 / 0.352\n",
      "Kappa:  25 / 0.683 / 0.352\n",
      "\n",
      "Pitch Type: FT\n",
      "Percent Whiffs:  0.799\n",
      "Leaves/Score/Kappa for best:\n",
      "Score:  25 / 0.802 / 0.047\n",
      "Kappa:  5 / 0.798 / 0.082\n",
      "\n",
      "Pitch Type: FF\n",
      "Percent Whiffs:  0.759\n",
      "Leaves/Score/Kappa for best:\n",
      "Score:  25 / 0.76 / 0.052\n",
      "Kappa:  5 / 0.751 / 0.079\n",
      "\n",
      "Pitch Type: CH\n",
      "Percent Whiffs:  0.536\n",
      "Leaves/Score/Kappa for best:\n",
      "Score:  50 / 0.632 / 0.251\n",
      "Kappa:  50 / 0.632 / 0.251\n",
      "\n",
      "Pitch Type: CU\n",
      "Percent Whiffs:  0.533\n",
      "Leaves/Score/Kappa for best:\n",
      "Score:  25 / 0.706 / 0.405\n",
      "Kappa:  25 / 0.706 / 0.405\n",
      "\n",
      "Pitch Type: SI\n",
      "Percent Whiffs:  0.798\n",
      "Leaves/Score/Kappa for best:\n",
      "Score:  10 / 0.802 / 0.079\n",
      "Kappa:  5 / 0.798 / 0.091\n",
      "\n",
      "Pitch Type: FC\n",
      "Percent Whiffs:  0.695\n",
      "Leaves/Score/Kappa for best:\n",
      "Score:  25 / 0.715 / 0.138\n",
      "Kappa:  5 / 0.709 / 0.177\n",
      "\n",
      "Pitch Type: FS\n",
      "Percent Whiffs:  0.553\n",
      "Leaves/Score/Kappa for best:\n",
      "Score:  50 / 0.662 / 0.305\n",
      "Kappa:  50 / 0.662 / 0.305\n",
      "time: 8min 17s\n"
     ]
    }
   ],
   "source": [
    "leafs = [1,5,10,25,50];\n",
    "pitch_types = list(df.pitch_type.unique())\n",
    "covars = ['start_speed','end_speed','p_throws','pfx_x','pfx_z','vx0','vy0','vz0','ax','ay','az','break_y',\n",
    "         'break_angle','spin_dir','spin_rate']\n",
    "best = get_best_leaf(df,pitch_types,leafs,covars)"
   ]
  },
  {
   "cell_type": "code",
   "execution_count": 155,
   "metadata": {
    "collapsed": false
   },
   "outputs": [
    {
     "name": "stdout",
     "output_type": "stream",
     "text": [
      "\\begin{tabular}{lrrr}\n",
      "\\toprule\n",
      "{} &  kappa &  perc\\_whiff &  score \\\\\n",
      "\\midrule\n",
      "CH &  0.252 &       0.536 &  0.633 \\\\\n",
      "CU &  0.401 &       0.533 &  0.704 \\\\\n",
      "FC &  0.150 &       0.695 &  0.717 \\\\\n",
      "FF &  0.034 &       0.759 &  0.760 \\\\\n",
      "FS &  0.309 &       0.553 &  0.664 \\\\\n",
      "FT &  0.051 &       0.799 &  0.802 \\\\\n",
      "SI &  0.060 &       0.798 &  0.802 \\\\\n",
      "SL &  0.353 &       0.545 &  0.684 \\\\\n",
      "\\bottomrule\n",
      "\\end{tabular}\n",
      "\n",
      "time: 8.7 ms\n"
     ]
    }
   ],
   "source": [
    "best_df = pd.DataFrame(best).T\n",
    "out_best = best_df[['kappa','perc_whiff','score']]\n",
    "best_df.to_csv('final_avg_scores.csv')\n",
    "print(out_best.to_latex())"
   ]
  },
  {
   "cell_type": "markdown",
   "metadata": {},
   "source": [
    "# Get Predicted Means Table"
   ]
  },
  {
   "cell_type": "code",
   "execution_count": 54,
   "metadata": {
    "collapsed": false
   },
   "outputs": [
    {
     "name": "stdout",
     "output_type": "stream",
     "text": [
      "time: 102 ms\n"
     ]
    }
   ],
   "source": [
    "def get_pred_means_table(df,covariates,leaf, subset = None):\n",
    "    df_p_train, df_p_test = train_test_split(df, test_size=0.5, random_state=42)\n",
    "\n",
    "    #Test and train X datasets\n",
    "    Y_train = df_p_train.whiff\n",
    "    Y_test = df_p_test.whiff\n",
    "    X_train = df_p_train[covariates]\n",
    "\n",
    "    X_test = df_p_test[covariates]\n",
    "\n",
    "\n",
    "    X_train = pd.concat([pd.get_dummies(X_train[col]).ix[:, :-1] \n",
    "                   if X_train[col].dtype == object or hasattr(X_train[col], 'cat')\n",
    "                   else X_train[col]\n",
    "                   for col in X_train.columns], axis=1)\n",
    "\n",
    "    X_test = pd.concat([pd.get_dummies(X_test[col]).ix[:, :-1] \n",
    "                   if X_test[col].dtype == object or hasattr(X_test[col], 'cat')\n",
    "                   else X_test[col]\n",
    "                   for col in X_test.columns], axis=1)\n",
    "\n",
    "    #Fit the Random Forest with the best leaf\n",
    "    clf = RandomForestClassifier(min_samples_leaf=leaf)\n",
    "    clf.fit(X_train,Y_train)\n",
    "\n",
    "    print(1-Y_test.mean())\n",
    "    print(clf.score(X_test,Y_test))\n",
    "    #Predict probabilities\n",
    "    pred_probs = clf.predict_proba(X_test)[:,1] #predicted probability of strike\n",
    "\n",
    "    #Take the logit\n",
    "    pred_stuff = logit(pred_probs)\n",
    "\n",
    "    pred_mat = df_p_test[[\"pitcher_name\"]].copy()\n",
    "    pred_mat['pred_stuff'] = pred_stuff\n",
    "    \n",
    "    #Get rid of people with predicted probability 0\n",
    "    pred_mat['pred_stuff'] = pred_mat['pred_stuff'][pred_mat['pred_stuff']>-math.inf]\n",
    "    \n",
    "    #mean/sd for standardization\n",
    "    overall_mean = pred_mat.pred_stuff.mean()\n",
    "    overall_sd = pred_mat.pred_stuff.std()\n",
    "    \n",
    "    #Standardize\n",
    "    pred_mat['pred_z'] = (pred_mat['pred_stuff'] - overall_mean)/overall_sd\n",
    "    \n",
    "    #group by pitcher name\n",
    "    #average the stuff\n",
    "    group_pred = pred_mat.groupby('pitcher_name')\n",
    "\n",
    "    mapped_funs = {'pred_z': {'count','mean'}}\n",
    "    pred_means = group_pred.agg(mapped_funs)\n",
    "\n",
    "    #Only show me players with more than 100 of that pitch\n",
    "    if(subset is not None):\n",
    "        pred_means = pred_means[pred_means[('pred_z','count')]>subset]\n",
    "    \n",
    "    pred_means = pred_means.sort_values(('pred_z','mean'),ascending = False)\n",
    "\n",
    "    return(pred_means)"
   ]
  },
  {
   "cell_type": "code",
   "execution_count": 140,
   "metadata": {
    "collapsed": false
   },
   "outputs": [
    {
     "name": "stdout",
     "output_type": "stream",
     "text": [
      "time: 2.87 ms\n"
     ]
    }
   ],
   "source": [
    "def print_top_pitch(df,pitch,covars,leaf,subset, num_top = 5,):\n",
    "    top_pitch = get_pred_means_table(df[df.pitch_type==pitch],covars,leaf,subset=subset)\n",
    "    final_tp = top_pitch.ix[0:num_top,('pred_z','mean')]\n",
    "    final_tp.to_csv('top_overall_' + pitch+'.csv')\n",
    "    print(pd.DataFrame(final_tp).to_latex())"
   ]
  },
  {
   "cell_type": "code",
   "execution_count": 127,
   "metadata": {
    "collapsed": false
   },
   "outputs": [
    {
     "name": "stdout",
     "output_type": "stream",
     "text": [
      "0.75763153858\n",
      "0.758273020123\n",
      "\\begin{tabular}{lr}\n",
      "\\toprule\n",
      "{} &    pred\\_z \\\\\n",
      "{} &      mean \\\\\n",
      "pitcher\\_name    &           \\\\\n",
      "\\midrule\n",
      "Aroldis Chapman &  1.369646 \\\\\n",
      "Craig Kimbrel   &  1.149720 \\\\\n",
      "Matt Bush       &  1.037304 \\\\\n",
      "Darren O'Day    &  1.004500 \\\\\n",
      "Buddy Baumann   &  0.976495 \\\\\n",
      "\\bottomrule\n",
      "\\end{tabular}\n",
      "\n",
      "time: 2.72 s\n"
     ]
    }
   ],
   "source": [
    "print_top_pitch(df,\"FF\",covars,best['FF']['leaf'])"
   ]
  },
  {
   "cell_type": "code",
   "execution_count": 214,
   "metadata": {
    "collapsed": false
   },
   "outputs": [
    {
     "name": "stdout",
     "output_type": "stream",
     "text": [
      "0.795812444707\n",
      "0.799174284872\n",
      "\\begin{tabular}{lr}\n",
      "\\toprule\n",
      "{} &    pred\\_z \\\\\n",
      "{} &      mean \\\\\n",
      "pitcher\\_name     &           \\\\\n",
      "\\midrule\n",
      "Zachary Britton  &  1.484389 \\\\\n",
      "Tommy Layne      &  1.110162 \\\\\n",
      "Jeurys Familia   &  1.092084 \\\\\n",
      "Scott Rice       &  1.046193 \\\\\n",
      "Alexander Torres &  0.914581 \\\\\n",
      "\\bottomrule\n",
      "\\end{tabular}\n",
      "\n",
      "time: 769 ms\n"
     ]
    }
   ],
   "source": [
    "print_top_pitch(df,'SI',covars,subset = 1,leaf=best['FT']['leaf'])"
   ]
  },
  {
   "cell_type": "code",
   "execution_count": 153,
   "metadata": {
    "collapsed": false
   },
   "outputs": [
    {
     "name": "stdout",
     "output_type": "stream",
     "text": [
      "0.543966463719\n",
      "0.701367401936\n",
      "\\begin{tabular}{lr}\n",
      "\\toprule\n",
      "{} &    pred\\_z \\\\\n",
      "{} &      mean \\\\\n",
      "pitcher\\_name    &           \\\\\n",
      "\\midrule\n",
      "Craig Kimbrel   &  0.727739 \\\\\n",
      "Wade Davis      &  0.624190 \\\\\n",
      "Dellin Betances &  0.583911 \\\\\n",
      "Brett Cecil     &  0.571372 \\\\\n",
      "Jamey Wright    &  0.567654 \\\\\n",
      "\\bottomrule\n",
      "\\end{tabular}\n",
      "\n",
      "time: 404 ms\n"
     ]
    }
   ],
   "source": [
    "print_top_pitch(df,'CU',covars,subset = 100,leaf=best['CU']['leaf'],num_top=5)"
   ]
  },
  {
   "cell_type": "markdown",
   "metadata": {},
   "source": [
    "# Train Model based on best leaf, attach to other dset"
   ]
  },
  {
   "cell_type": "markdown",
   "metadata": {},
   "source": [
    "** Need to train model on 2012/2016 swings, but attach to 2013-2015 all pitches**"
   ]
  },
  {
   "cell_type": "code",
   "execution_count": 17,
   "metadata": {
    "collapsed": false
   },
   "outputs": [
    {
     "name": "stdout",
     "output_type": "stream",
     "text": [
      "time: 83.9 ms\n"
     ]
    }
   ],
   "source": [
    "def add_stuff(train_dset, pred_dset, best_fits, covariates):\n",
    "    \n",
    "    #Train all the pitches, save the clfs\n",
    "    all_pitches = train_dset.pitch_type.unique()\n",
    "    if(len(all_pitches)!=len(best_fits)):\n",
    "        print('Error: Num pitch types in fits dictionary not same as num pitch types in dset')\n",
    "        return\n",
    "    \n",
    "    clf_dict = {}\n",
    "    for i in range(len(all_pitches)):\n",
    "        pitch = all_pitches[i]\n",
    "        \n",
    "        if(pitch not in best_fits.keys()):\n",
    "            print(pitch+' not in fits dictionary')\n",
    "            return\n",
    "        \n",
    "        train_df = train_dset[train_dset.pitch_type==pitch]\n",
    "        X_train = train_df[covariates]\n",
    "\n",
    "        X_train = pd.concat([pd.get_dummies(X_train[col]).ix[:, :-1] \n",
    "                       if X_train[col].dtype == object or hasattr(X_train[col], 'cat')\n",
    "                       else X_train[col]\n",
    "                       for col in X_train.columns], axis=1)\n",
    "        \n",
    "        Y_train = train_df.whiff\n",
    "        \n",
    "        leaf = best_fits[pitch]['leaf']\n",
    "        clf =  RandomForestClassifier(min_samples_leaf=leaf)\n",
    "        clf.fit(X_train,Y_train)\n",
    "        \n",
    "        ##Now, predict on new data\n",
    "        pred_df = pred_dset[pred_dset.pitch_type==pitch].copy()\n",
    "        \n",
    "        X_pred = pred_df[covariates]\n",
    "        X_pred = pd.concat([pd.get_dummies(X_pred[col]).ix[:, :-1] \n",
    "                       if X_pred[col].dtype == object or hasattr(X_pred[col], 'cat')\n",
    "                       else X_pred[col]\n",
    "                       for col in X_pred.columns], axis=1)\n",
    "        \n",
    "        #Predict probabilities\n",
    "        pred_probs = clf.predict_proba(X_pred)[:,1] #predicted probability of strike\n",
    "\n",
    "        #Take the logit\n",
    "        pred_stuff = logit(pred_probs)\n",
    "        \n",
    "        overall_mean = pred_stuff.mean()\n",
    "        overall_sd = pred_stuff.std()\n",
    "        \n",
    "        pred_z = (pred_stuff - overall_mean)/overall_sd\n",
    "        \n",
    "        pred_df['z_stuff'] = pred_z\n",
    "        \n",
    "        if(i==0):\n",
    "            out_mat = pred_df.copy()\n",
    "        else:\n",
    "            out_mat = out_mat.append(pred_df)\n",
    "        \n",
    "    \n",
    "    if(out_mat.shape[0]!= pred_dset.shape[0]):\n",
    "        print(\"You got more than zero problems big fella\")\n",
    "        \n",
    "    return(out_mat)\n",
    "\n",
    "    "
   ]
  },
  {
   "cell_type": "code",
   "execution_count": 197,
   "metadata": {
    "collapsed": false
   },
   "outputs": [
    {
     "name": "stdout",
     "output_type": "stream",
     "text": [
      "time: 319 ms\n"
     ]
    }
   ],
   "source": [
    "final_train = df[(df.year==2016) | (df.year==2012)]\n",
    "final_pred = df_all[(df_all.year>=2013)&(df_all.year<=2015)]"
   ]
  },
  {
   "cell_type": "code",
   "execution_count": 206,
   "metadata": {
    "collapsed": false
   },
   "outputs": [
    {
     "name": "stdout",
     "output_type": "stream",
     "text": [
      "time: 7.58 s\n"
     ]
    }
   ],
   "source": [
    "jags_dset = add_stuff(final_train, final_pred,best,covars)"
   ]
  },
  {
   "cell_type": "code",
   "execution_count": 207,
   "metadata": {
    "collapsed": false
   },
   "outputs": [
    {
     "name": "stdout",
     "output_type": "stream",
     "text": [
      "pitcher_name\n",
      "Zachary Britton    1.955052\n",
      "Blake Treinen      1.225513\n",
      "Jacob McGee        0.900329\n",
      "Aroldis Chapman    0.883497\n",
      "Craig Kimbrel      0.829587\n",
      "Name: (z_stuff, mean), dtype: float64\n",
      "time: 311 ms\n"
     ]
    }
   ],
   "source": [
    "jags_group = jags_dset.groupby('pitcher_name')\n",
    "\n",
    "mapped_funs = {'z_stuff': {'count','mean'}}\n",
    "z_stuff = jags_group.agg(mapped_funs)\n",
    "jags_dset.to_csv('../Data/all_pitches_pred.csv')"
   ]
  }
 ],
 "metadata": {
  "kernelspec": {
   "display_name": "Python 3",
   "language": "python",
   "name": "python3"
  },
  "language_info": {
   "codemirror_mode": {
    "name": "ipython",
    "version": 3
   },
   "file_extension": ".py",
   "mimetype": "text/x-python",
   "name": "python",
   "nbconvert_exporter": "python",
   "pygments_lexer": "ipython3",
   "version": "3.5.2"
  }
 },
 "nbformat": 4,
 "nbformat_minor": 0
}
